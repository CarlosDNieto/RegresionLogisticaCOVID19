{
 "cells": [
  {
   "cell_type": "code",
   "execution_count": 1,
   "metadata": {},
   "outputs": [],
   "source": [
    "import math\n",
    "import requests\n",
    "import warnings\n",
    "warnings.filterwarnings(\"ignore\")\n",
    "import pandas as pd\n",
    "import seaborn as sns\n",
    "import plotly.express as px\n",
    "import plotly.graph_objects as go\n",
    "import matplotlib.pyplot as plt\n",
    "from requests.exceptions import ConnectionError\n",
    "\n"
   ]
  },
  {
   "cell_type": "markdown",
   "metadata": {},
   "source": [
    "# Modelo 3\n",
    "\n",
    "Después de evaluar el **Modelo 2** nos dimos cuenta que no cambiaba para nada el modelo solamente implementando un **``ChiSqSelector``** de la forma que lo hicimos para mejorar el modelo, ya que el modelo era el mismo.\n",
    "\n",
    "\n",
    "En este nuevo **Modelo 3** vamos a hacer otras modificaciones:\n",
    "\n",
    "* Vamos a quitar el \n",
    "\n",
    "\n",
    "> **Nota:** Se omitiran todas las visualizaciones y análisis exploratorios en este notebook."
   ]
  },
  {
   "cell_type": "code",
   "execution_count": 2,
   "metadata": {},
   "outputs": [],
   "source": [
    "try:\n",
    "    from pyspark.sql import SparkSession\n",
    "except:\n",
    "    import findspark\n",
    "    findspark.init()\n",
    "    from pyspark.sql import SparkSession"
   ]
  },
  {
   "cell_type": "code",
   "execution_count": 3,
   "metadata": {},
   "outputs": [],
   "source": [
    "spark = SparkSession.builder.appName(\"COVID\") \\\n",
    "        .config(\"hive.exec.dynamic.partition\", \"true\")\\\n",
    "        .config(\"hive.exec.dynamic.partition.mode\", \"nonstrict\") \\\n",
    "        .enableHiveSupport()\\\n",
    "        .getOrCreate()\n",
    "\n",
    "sc=spark.sparkContext"
   ]
  },
  {
   "cell_type": "code",
   "execution_count": 4,
   "metadata": {},
   "outputs": [],
   "source": [
    "def filtraPositivos(df):\n",
    "    \"\"\"\n",
    "    Esta función filtra los casos positivos de un DataFrame dado.\n",
    "    df: spark DataFrame con la columna 'resultado'\n",
    "    \"\"\"\n",
    "    #Devolvemos nuestro df con los casos positivos\n",
    "    return df.filter(df.RESULTADO == 'Positivo SARS-CoV-2')"
   ]
  },
  {
   "cell_type": "code",
   "execution_count": 5,
   "metadata": {},
   "outputs": [],
   "source": [
    "def limpiaNulls(df):\n",
    "    \"\"\"\n",
    "    Función que limpia nulls en un DF de spark e imprime\n",
    "    la cantidad de registros que borró (cantidad de valores\n",
    "    nulos).\n",
    "    \"\"\"\n",
    "    cleanDF = df.na.drop()\n",
    "    \n",
    "    print(\"Numero de registros con algun valor nulo: \", df.count() - cleanDF.count())\n",
    "    return cleanDF"
   ]
  },
  {
   "cell_type": "markdown",
   "metadata": {},
   "source": [
    "#### Cargamos nuestros datos"
   ]
  },
  {
   "cell_type": "code",
   "execution_count": 6,
   "metadata": {},
   "outputs": [
    {
     "name": "stdout",
     "output_type": "stream",
     "text": [
      "Numero de registros con algun valor nulo:  0\n"
     ]
    }
   ],
   "source": [
    "#path del archivo csv\n",
    "file_local_path = 'C:/Users/nieto/Desktop/casos-asociados-a-covid-19.csv'\n",
    "\n",
    "#cargamos el archivo en un spark DataFrame\n",
    "df_origen = spark.read.csv(file_local_path, header=True, encoding='UTF-8', inferSchema=True)\n",
    "\n",
    "#covariables que vamos a tomar en cuenta para el modelo\n",
    "features = [\"TIPO PACIENTE\", \"SEXO\", \"EDAD\", \"EMBARAZO\", \"DIABETES\", \"EPOC\", \"ASMA\", \"INMUNOSUPRESION\", \"HIPERTENSION\",\n",
    "            \"OTRA COMPLICACION\", \"CARDIOVASCULAR\", \"OBESIDAD\", \"RENAL CRONICA\", \"TABAQUISMO\",\"RESULTADO\"]\n",
    "df = df_origen.select(features)\n",
    "\n",
    "#filtramos los casos positivos\n",
    "df = filtraPositivos(df)\n",
    "#ya no necesitamos la columna resultado\n",
    "df = df.drop('RESULTADO')\n",
    "#limpiamos nuestra información\n",
    "df = limpiaNulls(df)\n",
    "#creamos una vista temporal en spark\n",
    "df.createOrReplaceTempView('covid')"
   ]
  },
  {
   "cell_type": "code",
   "execution_count": 10,
   "metadata": {},
   "outputs": [],
   "source": [
    "#cargamos nuestras librerías de spark\n",
    "from pyspark.ml.linalg import Vectors\n",
    "from pyspark.ml import Pipeline\n",
    "from pyspark.ml.classification import LogisticRegression\n",
    "from pyspark.ml.feature import OneHotEncoderEstimator, StringIndexer, VectorAssembler, MinMaxScaler, ChiSqSelector"
   ]
  },
  {
   "cell_type": "markdown",
   "metadata": {},
   "source": [
    "#### Procesamiento de datos de entrenamiento"
   ]
  },
  {
   "cell_type": "code",
   "execution_count": 22,
   "metadata": {},
   "outputs": [],
   "source": [
    "def dataProcessing(train, categoricalCols, numericalCols, labelCol=\"TIPO PACIENTE\"):\n",
    "    \"\"\"Función que hace todo el preprocesamiento de los datos\n",
    "    categóricos de un conjunto de datos de entrenamiento (o no).\n",
    "    :param train spark df: conjunto de datos de entrenamiento.\n",
    "    :param categoricalCols list,array: conjunto de nombres de columnas categoricas del\n",
    "        conjunto de datos train.\n",
    "    :param numericalCols list,array: conjunto de nombres de columnas numéricas del \n",
    "        conjunto de datos train.\n",
    "    :param labelCol str: variable objetivo o etiqueta\n",
    "    \n",
    "    :Returns spark dataframe con las columnas 'label' y 'features'\n",
    "    \"\"\"\n",
    "    \n",
    "    #codificamos todas las variables categóricas\n",
    "    stages = []\n",
    "    for categoricalCol in categoricalCols:\n",
    "        stringIndexer = StringIndexer(inputCol=categoricalCol, outputCol= categoricalCol + \"Index\")\n",
    "        encoder = OneHotEncoderEstimator(inputCols=[stringIndexer.getOutputCol()],\n",
    "                                        outputCols=[categoricalCol + \"ohe\"])\n",
    "        stages += [stringIndexer, encoder]\n",
    "\n",
    "    #variable objetivo (etiqueta)\n",
    "    label_strIdx = StringIndexer(inputCol=labelCol, outputCol=\"label\")\n",
    "    stages += [label_strIdx]\n",
    "\n",
    "    #ponemos todas las covariables en un vector\n",
    "    assemblerInputs = [c + \"ohe\" for c in categoricalCols] + numericalCols\n",
    "    assembler = VectorAssembler(inputCols=assemblerInputs, outputCol=\"features\")\n",
    "    stages += [assembler]\n",
    "    \n",
    "    #seleccionamos las variables que nos sirven con ChiSqSelector\n",
    "    selector = ChiSqSelector(featuresCol=\"features\", outputCol=\"salidaf\", labelCol=\"label\", fpr=0.05)\n",
    "    stages += [selector]\n",
    "    \n",
    "    #escala de 0-1\n",
    "    #scala = MinMaxScaler(inputCol=\"feature\", outputCol=\"features\")\n",
    "    #stages += [scala]\n",
    "    \n",
    "    #pipeline donde vamos a hacer todo el proceso\n",
    "    pipe = Pipeline(stages=stages)\n",
    "    pipeModel = pipe.fit(train)\n",
    "    train = pipeModel.transform(train)\n",
    "    \n",
    "    #regresamos nuestro df con lo que necesitamos\n",
    "    return train"
   ]
  },
  {
   "cell_type": "code",
   "execution_count": 14,
   "metadata": {},
   "outputs": [],
   "source": [
    "#separamos nuestros datos en conjunto de entrenamiento y prueba\n",
    "train, test = df.randomSplit([0.70,0.30])\n",
    "#parámetros necesarios para procesamiento de datos\n",
    "categoricalCols = list(train.columns[1:])\n",
    "categoricalCols.remove(\"EDAD\")\n",
    "numericalCols = [\"EDAD\"]\n",
    "labelCol = \"TIPO PACIENTE\""
   ]
  },
  {
   "cell_type": "code",
   "execution_count": 23,
   "metadata": {},
   "outputs": [],
   "source": [
    "#procesamiento de nuestros dato de entrenamiento\n",
    "train = dataProcessing(train, categoricalCols, numericalCols, labelCol)"
   ]
  },
  {
   "cell_type": "code",
   "execution_count": 56,
   "metadata": {},
   "outputs": [
    {
     "name": "stdout",
     "output_type": "stream",
     "text": [
      "+-----+----------------------------------------------------------------------------------------------+\n",
      "|label|salidaf                                                                                       |\n",
      "+-----+----------------------------------------------------------------------------------------------+\n",
      "|0.0  |(25,[0,1,4,6,8,10,12,14,16,18,20,22],[1.0,1.0,1.0,1.0,1.0,1.0,1.0,1.0,1.0,1.0,1.0,1.0])       |\n",
      "|0.0  |(25,[0,1,4,6,8,10,12,14,16,18,20,22],[1.0,1.0,1.0,1.0,1.0,1.0,1.0,1.0,1.0,1.0,1.0,1.0])       |\n",
      "|0.0  |(25,[0,1,4,6,8,10,12,14,16,18,20,22],[1.0,1.0,1.0,1.0,1.0,1.0,1.0,1.0,1.0,1.0,1.0,1.0])       |\n",
      "|0.0  |(25,[0,1,4,6,8,10,12,14,16,18,20,22],[1.0,1.0,1.0,1.0,1.0,1.0,1.0,1.0,1.0,1.0,1.0,1.0])       |\n",
      "|0.0  |(25,[0,1,4,6,8,10,12,14,16,18,20,22,24],[1.0,1.0,1.0,1.0,1.0,1.0,1.0,1.0,1.0,1.0,1.0,1.0,1.0])|\n",
      "|0.0  |(25,[0,1,4,6,8,10,12,14,16,18,20,22,24],[1.0,1.0,1.0,1.0,1.0,1.0,1.0,1.0,1.0,1.0,1.0,1.0,1.0])|\n",
      "|0.0  |(25,[0,1,4,6,8,10,12,14,16,18,20,22,24],[1.0,1.0,1.0,1.0,1.0,1.0,1.0,1.0,1.0,1.0,1.0,1.0,1.0])|\n",
      "|0.0  |(25,[0,1,4,6,8,10,12,14,16,18,20,22,24],[1.0,1.0,1.0,1.0,1.0,1.0,1.0,1.0,1.0,1.0,1.0,1.0,1.0])|\n",
      "|0.0  |(25,[0,1,4,6,8,10,12,14,16,18,20,22,24],[1.0,1.0,1.0,1.0,1.0,1.0,1.0,1.0,1.0,1.0,1.0,1.0,1.0])|\n",
      "|0.0  |(25,[0,1,4,6,8,10,12,14,16,18,20,22,24],[1.0,1.0,1.0,1.0,1.0,1.0,1.0,1.0,1.0,1.0,1.0,1.0,1.0])|\n",
      "+-----+----------------------------------------------------------------------------------------------+\n",
      "only showing top 10 rows\n",
      "\n"
     ]
    }
   ],
   "source": [
    "train.select(\"label\",\"salidaf\").show(10,truncate=False)"
   ]
  },
  {
   "cell_type": "markdown",
   "metadata": {},
   "source": [
    "#### Entrenamiento del modelo"
   ]
  },
  {
   "cell_type": "code",
   "execution_count": 55,
   "metadata": {},
   "outputs": [],
   "source": [
    "def modeloLogistico(data, labelCol=\"label\", featuresCol=\"features\"):\n",
    "    \"\"\"\n",
    "    Función que se encarga de ajustar un modelo logístico\n",
    "    a partir de un dataframe de spark con el esquema ya procesado\n",
    "    a partir de la función dataProcessing().\n",
    "    \n",
    "    :param data: spark dataframe.\n",
    "    :param labelCol: string nombre de la columna con la variable respuesta.\n",
    "    :param featuresCol: string nombre de la columna con los vectores de las\n",
    "        covariables.\n",
    "    \n",
    "    :returns modelo ajustado:\n",
    "    \"\"\"\n",
    "    from pyspark.ml.classification import LogisticRegression\n",
    "    \n",
    "    model = LogisticRegression(featuresCol=featuresCol, labelCol=labelCol)\n",
    "    return model.fit(data)"
   ]
  },
  {
   "cell_type": "code",
   "execution_count": 57,
   "metadata": {},
   "outputs": [],
   "source": [
    "model = modeloLogistico(data=train, labelCol=\"label\", featuresCol=\"salidaf\")"
   ]
  },
  {
   "cell_type": "code",
   "execution_count": 58,
   "metadata": {},
   "outputs": [
    {
     "name": "stdout",
     "output_type": "stream",
     "text": [
      "Coeficientes:  DenseMatrix([[ 0.34442928,  0.34442928,  0.15211089,  1.35695705, -0.5500099 ,\n",
      "               0.12895475,  0.11883651,  0.4285079 ,  0.46681738,  0.20353834,\n",
      "               0.3522719 ,  0.91709993, -0.14841741,  0.06763272, -1.00643796,\n",
      "              -0.60313335,  0.05457799,  0.03097882, -1.55545394, -1.32694195,\n",
      "               0.79561364,  1.59629636,  0.44800988,  0.3263574 ,  0.04853739]])\n",
      "Intercepto:  [-2.699505119111124]\n"
     ]
    }
   ],
   "source": [
    "print(\"Coeficientes: \",str(model.coefficientMatrix))\n",
    "print(\"Intercepto: \", str(model.interceptVector))"
   ]
  },
  {
   "cell_type": "code",
   "execution_count": 59,
   "metadata": {},
   "outputs": [
    {
     "data": {
      "image/png": "[encoded data removed]",
      "text/plain": [
       "<Figure size 432x288 with 1 Axes>"
      ]
     },
     "metadata": {
      "needs_background": "light"
     },
     "output_type": "display_data"
    },
    {
     "name": "stdout",
     "output_type": "stream",
     "text": [
      "Training set areaUnderROC: 0.7653164915607762\n"
     ]
    }
   ],
   "source": [
    "modelSummary = model.summary\n",
    "\n",
    "roc = modelSummary.roc.toPandas()\n",
    "plt.plot(roc['FPR'],roc['TPR'])\n",
    "plt.ylabel('False Positive Rate')\n",
    "plt.xlabel('True Positive Rate')\n",
    "plt.title('ROC Curve')\n",
    "plt.show()\n",
    "print('Training set areaUnderROC: ' + str(modelSummary.areaUnderROC))"
   ]
  },
  {
   "cell_type": "code",
   "execution_count": 60,
   "metadata": {},
   "outputs": [
    {
     "data": {
      "image/png": "[encoded data removed]",
      "text/plain": [
       "<Figure size 432x288 with 1 Axes>"
      ]
     },
     "metadata": {
      "needs_background": "light"
     },
     "output_type": "display_data"
    }
   ],
   "source": [
    "pr = modelSummary.pr.toPandas()\n",
    "plt.plot(pr['recall'],pr['precision'])\n",
    "plt.ylabel('Precision')\n",
    "plt.xlabel('Recall')\n",
    "plt.show()"
   ]
  },
  {
   "cell_type": "markdown",
   "metadata": {},
   "source": [
    "#### Predicciones"
   ]
  },
  {
   "cell_type": "code",
   "execution_count": 61,
   "metadata": {},
   "outputs": [],
   "source": [
    "def predictLogistico(test,categoricalCols, numericalCols, labelCol, model):\n",
    "    \"\"\"\n",
    "    Esta función predice un modelo logístico con columnas categóricas\n",
    "    y numéricas sobre un conjunto de datos de prueba.\n",
    "    \"\"\"\n",
    "    #procesamos los datos del test set\n",
    "    test = dataProcessing(test, categoricalCols, numericalCols, labelCol)\n",
    "    #predecimos el modelo\n",
    "    predictions = model.transform(test)\n",
    "    #regresamos el df con las predicciones\n",
    "    return predictions"
   ]
  },
  {
   "cell_type": "code",
   "execution_count": 62,
   "metadata": {},
   "outputs": [],
   "source": [
    "predictions = predictLogistico(test, categoricalCols, numericalCols, labelCol, model)"
   ]
  },
  {
   "cell_type": "code",
   "execution_count": 63,
   "metadata": {},
   "outputs": [
    {
     "name": "stdout",
     "output_type": "stream",
     "text": [
      "+----------------+-----+----+\n",
      "|label_prediction|  0.0| 1.0|\n",
      "+----------------+-----+----+\n",
      "|             1.0| 6154|4636|\n",
      "|             0.0|18205|2511|\n",
      "+----------------+-----+----+\n",
      "\n"
     ]
    }
   ],
   "source": [
    "#Matriz de confusión en las predicciones del test set\n",
    "predictions.crosstab(\"label\",\"prediction\").show()"
   ]
  },
  {
   "cell_type": "code",
   "execution_count": 64,
   "metadata": {},
   "outputs": [
    {
     "name": "stdout",
     "output_type": "stream",
     "text": [
      "Test Area Under ROC 0.761191286601394\n"
     ]
    }
   ],
   "source": [
    "#AUROC del test set\n",
    "from pyspark.ml.evaluation import BinaryClassificationEvaluator\n",
    "evaluator = BinaryClassificationEvaluator()\n",
    "print('Test Area Under ROC', evaluator.evaluate(predictions))"
   ]
  },
  {
   "cell_type": "markdown",
   "metadata": {},
   "source": [
    "## Conclusión:\n",
    "\n",
    "Este modelo no elimina ninguna varibale y se termina comportando igual que el modelo en el notebook principal. Así que para quitarnos de duda, haré un Modelo 3 haciendo el procesamiento del pipeline como Jimmy lo hace en una captura de pantalla sin el OneHotEncoder."
   ]
  }
 ],
 "metadata": {
  "kernelspec": {
   "display_name": "Python 3",
   "language": "python",
   "name": "python3"
  },
  "language_info": {
   "codemirror_mode": {
    "name": "ipython",
    "version": 3
   },
   "file_extension": ".py",
   "mimetype": "text/x-python",
   "name": "python",
   "nbconvert_exporter": "python",
   "pygments_lexer": "ipython3",
   "version": "3.7.4"
  }
 },
 "nbformat": 4,
 "nbformat_minor": 2
}
