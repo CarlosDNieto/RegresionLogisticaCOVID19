{
 "cells": [
  {
   "cell_type": "code",
   "execution_count": 1,
   "metadata": {},
   "outputs": [],
   "source": [
    "import math\n",
    "import requests\n",
    "import warnings\n",
    "warnings.filterwarnings(\"ignore\")\n",
    "import pandas as pd\n",
    "import seaborn as sns\n",
    "import plotly.express as px\n",
    "import plotly.graph_objects as go\n",
    "import matplotlib.pyplot as plt\n",
    "from requests.exceptions import ConnectionError"
   ]
  },
  {
   "cell_type": "markdown",
   "metadata": {},
   "source": [
    "# Modelo 5\n",
    "\n",
    "Igual que el 3 sin **EMBARAZO**"
   ]
  },
  {
   "cell_type": "code",
   "execution_count": 2,
   "metadata": {},
   "outputs": [],
   "source": [
    "try:\n",
    "    from pyspark.sql import SparkSession\n",
    "except:\n",
    "    import findspark\n",
    "    findspark.init()\n",
    "    from pyspark.sql import SparkSession"
   ]
  },
  {
   "cell_type": "code",
   "execution_count": 3,
   "metadata": {},
   "outputs": [],
   "source": [
    "spark = SparkSession.builder.appName(\"COVID\") \\\n",
    "        .config(\"hive.exec.dynamic.partition\", \"true\")\\\n",
    "        .config(\"hive.exec.dynamic.partition.mode\", \"nonstrict\") \\\n",
    "        .enableHiveSupport()\\\n",
    "        .getOrCreate()\n",
    "\n",
    "sc=spark.sparkContext"
   ]
  },
  {
   "cell_type": "code",
   "execution_count": 4,
   "metadata": {},
   "outputs": [],
   "source": [
    "def filtraPositivos(df):\n",
    "    \"\"\"\n",
    "    Esta función filtra los casos positivos de un DataFrame dado.\n",
    "    df: spark DataFrame con la columna 'resultado'\n",
    "    \"\"\"\n",
    "    #Devolvemos nuestro df con los casos positivos\n",
    "    return df.filter(df.RESULTADO == 'Positivo SARS-CoV-2')"
   ]
  },
  {
   "cell_type": "code",
   "execution_count": 5,
   "metadata": {},
   "outputs": [],
   "source": [
    "def limpiaNulls(df):\n",
    "    \"\"\"\n",
    "    Función que limpia nulls en un DF de spark e imprime\n",
    "    la cantidad de registros que borró (cantidad de valores\n",
    "    nulos).\n",
    "    \"\"\"\n",
    "    cleanDF = df.na.drop()\n",
    "    \n",
    "    print(\"Numero de registros con algun valor nulo: \", df.count() - cleanDF.count())\n",
    "    return cleanDF"
   ]
  },
  {
   "cell_type": "markdown",
   "metadata": {},
   "source": [
    "#### Cargamos nuestros datos"
   ]
  },
  {
   "cell_type": "code",
   "execution_count": 6,
   "metadata": {},
   "outputs": [
    {
     "name": "stdout",
     "output_type": "stream",
     "text": [
      "Numero de registros con algun valor nulo:  0\n"
     ]
    }
   ],
   "source": [
    "#path del archivo csv\n",
    "file_local_path = 'C:/Users/nieto/Desktop/casos-asociados-a-covid-19.csv'\n",
    "\n",
    "#cargamos el archivo en un spark DataFrame\n",
    "df_origen = spark.read.csv(file_local_path, header=True, encoding='UTF-8', inferSchema=True)\n",
    "\n",
    "#covariables que vamos a tomar en cuenta para el modelo\n",
    "features = [\"TIPO PACIENTE\", \"SEXO\", \"EDAD\", \"DIABETES\", \"EPOC\", \"ASMA\", \"INMUNOSUPRESION\", \"HIPERTENSION\",\"EMBARAZO\",\n",
    "            \"OTRA COMPLICACION\", \"CARDIOVASCULAR\", \"OBESIDAD\", \"RENAL CRONICA\", \"TABAQUISMO\",\"RESULTADO\"]\n",
    "features.remove(\"EMBARAZO\")\n",
    "\n",
    "\n",
    "df = df_origen.select(features)\n",
    "\n",
    "#filtramos los casos positivos\n",
    "df = filtraPositivos(df)\n",
    "#ya no necesitamos la columna resultado\n",
    "df = df.drop('RESULTADO')\n",
    "#limpiamos nuestra información\n",
    "df = limpiaNulls(df)\n",
    "#creamos una vista temporal en spark\n",
    "df.createOrReplaceTempView('covid')"
   ]
  },
  {
   "cell_type": "code",
   "execution_count": 7,
   "metadata": {},
   "outputs": [],
   "source": [
    "#cargamos lo que necesitamos de spark.ml\n",
    "from pyspark.ml.linalg import Vectors\n",
    "from pyspark.ml import Pipeline\n",
    "from pyspark.ml.classification import LogisticRegression\n",
    "from pyspark.ml.feature import OneHotEncoderEstimator, StringIndexer, VectorAssembler, MinMaxScaler, ChiSqSelector"
   ]
  },
  {
   "cell_type": "markdown",
   "metadata": {},
   "source": [
    "#### Procesamiento de datos de entrenamiento"
   ]
  },
  {
   "cell_type": "code",
   "execution_count": 8,
   "metadata": {},
   "outputs": [],
   "source": [
    "def dataProcessing(train, categoricalCols, numericalCols, labelCol=\"TIPO PACIENTE\"):\n",
    "    \"\"\"Función que hace todo el preprocesamiento de los datos\n",
    "    categóricos de un conjunto de datos de entrenamiento (o no).\n",
    "    :param train spark df: conjunto de datos de entrenamiento.\n",
    "    :param categoricalCols list,array: conjunto de nombres de columnas categoricas del\n",
    "        conjunto de datos train.\n",
    "    :param numericalCols list,array: conjunto de nombres de columnas numéricas del \n",
    "        conjunto de datos train.\n",
    "    :param labelCol str: variable objetivo o etiqueta\n",
    "    \n",
    "    :Returns spark dataframe con las columnas 'label' y 'features'\n",
    "    \"\"\"\n",
    "    \n",
    "    #codificamos todas las variables categóricas\n",
    "    stages = []\n",
    "    for categoricalCol in categoricalCols:\n",
    "        stringIndexer = StringIndexer(inputCol=categoricalCol, outputCol= categoricalCol + \"Index\")\n",
    "        encoder = OneHotEncoderEstimator(inputCols=[stringIndexer.getOutputCol()],\n",
    "                                        outputCols=[categoricalCol + \"ohe\"])\n",
    "        stages += [stringIndexer, encoder]\n",
    "\n",
    "    #variable objetivo (etiqueta)\n",
    "    label_strIdx = StringIndexer(inputCol=labelCol, outputCol=\"label\")\n",
    "    stages += [label_strIdx]\n",
    "\n",
    "    #ponemos todas las covariables en un vector\n",
    "    assemblerInputs = [c + \"ohe\" for c in categoricalCols] + numericalCols\n",
    "    assembler = VectorAssembler(inputCols=assemblerInputs, outputCol=\"feat\")\n",
    "    stages += [assembler]\n",
    "    \n",
    "    #seleccionamos las variables que nos sirven con ChiSqSelector\n",
    "    selector = ChiSqSelector(featuresCol=\"feat\", outputCol=\"feature\", labelCol=\"label\", fpr=0.05,\n",
    "                            selectorType='fpr')\n",
    "    stages += [selector]\n",
    "    \n",
    "    #escala de 0-1\n",
    "    scala = MinMaxScaler(inputCol=\"feature\", outputCol=\"features\")\n",
    "    stages += [scala]\n",
    "    \n",
    "    #pipeline donde vamos a hacer todo el proceso\n",
    "    pipe = Pipeline(stages=stages)\n",
    "    pipeModel = pipe.fit(train)\n",
    "    train = pipeModel.transform(train)\n",
    "    \n",
    "    #regresamos nuestro df con lo que necesitamos\n",
    "    return train"
   ]
  },
  {
   "cell_type": "code",
   "execution_count": 9,
   "metadata": {},
   "outputs": [],
   "source": [
    "#parámetros necesarios para procesamiento de datos\n",
    "categoricalCols = list(df.columns[1:])\n",
    "categoricalCols.remove(\"EDAD\")\n",
    "numericalCols = [\"EDAD\"]\n",
    "\n",
    "#con dataProcessing() procesamos toda nuestra data\n",
    "raw_data = dataProcessing(df, categoricalCols, numericalCols, labelCol=\"TIPO PACIENTE\")"
   ]
  },
  {
   "cell_type": "code",
   "execution_count": 10,
   "metadata": {},
   "outputs": [],
   "source": [
    "#separamos nuestros datos en conjunto de entrenamiento y prueba\n",
    "train, test = raw_data.randomSplit([0.70,0.30])"
   ]
  },
  {
   "cell_type": "code",
   "execution_count": 11,
   "metadata": {},
   "outputs": [
    {
     "name": "stdout",
     "output_type": "stream",
     "text": [
      "+-----+-----------------------------------------------------------------------------------------+\n",
      "|label|features                                                                                 |\n",
      "+-----+-----------------------------------------------------------------------------------------+\n",
      "|0.0  |[1.0,1.0,0.0,1.0,0.0,1.0,0.0,1.0,0.0,1.0,0.0,1.0,0.0,1.0,0.0,1.0,0.0,1.0,0.0,1.0,0.0,0.0]|\n",
      "|0.0  |[1.0,1.0,0.0,1.0,0.0,1.0,0.0,1.0,0.0,1.0,0.0,1.0,0.0,1.0,0.0,1.0,0.0,1.0,0.0,1.0,0.0,0.0]|\n",
      "|0.0  |[1.0,1.0,0.0,1.0,0.0,1.0,0.0,1.0,0.0,1.0,0.0,1.0,0.0,1.0,0.0,1.0,0.0,1.0,0.0,1.0,0.0,0.0]|\n",
      "|0.0  |[1.0,1.0,0.0,1.0,0.0,1.0,0.0,1.0,0.0,1.0,0.0,1.0,0.0,1.0,0.0,1.0,0.0,1.0,0.0,1.0,0.0,0.0]|\n",
      "|0.0  |[1.0,1.0,0.0,1.0,0.0,1.0,0.0,1.0,0.0,1.0,0.0,1.0,0.0,1.0,0.0,1.0,0.0,1.0,0.0,0.0,1.0,0.0]|\n",
      "+-----+-----------------------------------------------------------------------------------------+\n",
      "only showing top 5 rows\n",
      "\n"
     ]
    }
   ],
   "source": [
    "train.select(\"label\",\"features\").show(5,truncate=False)"
   ]
  },
  {
   "cell_type": "code",
   "execution_count": 12,
   "metadata": {},
   "outputs": [
    {
     "name": "stdout",
     "output_type": "stream",
     "text": [
      "Balancing Ratio:  0.65790506080816\n"
     ]
    }
   ],
   "source": [
    "numHosp = train.filter(df[\"TIPO PACIENTE\"]==\"HOSPITALIZADO\").count()\n",
    "numAmb = train.filter(df[\"TIPO PACIENTE\"]==\"AMBULATORIO\").count()\n",
    "\n",
    "#BalancingRatio nos ayuda a darle más peso a la clase minoritaria\n",
    "BalancingRatio = numAmb / (numHosp + numAmb)\n",
    "print(\"Balancing Ratio: \", BalancingRatio)"
   ]
  },
  {
   "cell_type": "code",
   "execution_count": 13,
   "metadata": {
    "scrolled": true
   },
   "outputs": [
    {
     "name": "stdout",
     "output_type": "stream",
     "text": [
      "+----------------+\n",
      "|    classWeights|\n",
      "+----------------+\n",
      "|0.34209493919184|\n",
      "|0.34209493919184|\n",
      "|0.34209493919184|\n",
      "|0.34209493919184|\n",
      "|0.34209493919184|\n",
      "+----------------+\n",
      "only showing top 5 rows\n",
      "\n"
     ]
    }
   ],
   "source": [
    "from pyspark.sql.functions import when\n",
    "\n",
    "train=train.withColumn(\"classWeights\", when(train.label == 1,BalancingRatio).otherwise(1-BalancingRatio))\n",
    "train.select(\"classWeights\").show(5)"
   ]
  },
  {
   "cell_type": "markdown",
   "metadata": {},
   "source": [
    "#### Entrenamiento del modelo"
   ]
  },
  {
   "cell_type": "code",
   "execution_count": 14,
   "metadata": {},
   "outputs": [],
   "source": [
    "def modeloLogistico(data, labelCol=\"label\", featuresCol=\"features\", weightCol=\"\"):\n",
    "    \"\"\"\n",
    "    Función que se encarga de ajustar un modelo logístico\n",
    "    a partir de un dataframe de spark con el esquema ya procesado\n",
    "    a partir de la función dataProcessing().\n",
    "    \n",
    "    :param data: spark dataframe.\n",
    "    :param labelCol: string nombre de la columna con la variable respuesta.\n",
    "    :param featuresCol: string nombre de la columna con los vectores de las\n",
    "        covariables.\n",
    "    \n",
    "    :returns modelo ajustado:\n",
    "    \"\"\"\n",
    "    from pyspark.ml.classification import LogisticRegression\n",
    "    \n",
    "    model = LogisticRegression(featuresCol=featuresCol, labelCol=labelCol, weightCol=weightCol)\n",
    "    return model.fit(data)"
   ]
  },
  {
   "cell_type": "code",
   "execution_count": 15,
   "metadata": {},
   "outputs": [],
   "source": [
    "#Entrenamos nuestro modelo con el conjunto de entrenamiento y la función modeloLogistico()\n",
    "model = modeloLogistico(data=train, labelCol=\"label\", featuresCol=\"features\", weightCol=\"classWeights\")"
   ]
  },
  {
   "cell_type": "code",
   "execution_count": 16,
   "metadata": {},
   "outputs": [
    {
     "name": "stdout",
     "output_type": "stream",
     "text": [
      "Coeficientes:  DenseMatrix([[ 0.53160423, -0.25106622,  0.44485772,  0.41346326,  0.77852965,\n",
      "               0.21656276, -0.02943503,  0.30272902,  1.06588604, -0.37302255,\n",
      "              -0.13447932, -1.13772481, -0.68549372, -0.03994946, -0.06587437,\n",
      "              -1.29608464, -1.03080544,  0.6650948 ,  1.59611884,  0.66546509,\n",
      "               0.54346238,  5.80217968]])\n",
      "Intercepto:  [-2.092796781667258]\n"
     ]
    }
   ],
   "source": [
    "print(\"Coeficientes: \",str(model.coefficientMatrix))\n",
    "print(\"Intercepto: \", str(model.interceptVector))"
   ]
  },
  {
   "cell_type": "code",
   "execution_count": 17,
   "metadata": {},
   "outputs": [
    {
     "data": {
      "image/png": "[encoded data removed]",
      "text/plain": [
       "<Figure size 432x288 with 1 Axes>"
      ]
     },
     "metadata": {
      "needs_background": "light"
     },
     "output_type": "display_data"
    },
    {
     "name": "stdout",
     "output_type": "stream",
     "text": [
      "Training set areaUnderROC: 0.7641198877793406\n"
     ]
    }
   ],
   "source": [
    "modelSummary = model.summary\n",
    "\n",
    "roc = modelSummary.roc.toPandas()\n",
    "plt.plot(roc['FPR'],roc['TPR'])\n",
    "plt.ylabel('False Positive Rate')\n",
    "plt.xlabel('True Positive Rate')\n",
    "plt.title('ROC Curve')\n",
    "plt.show()\n",
    "print('Training set areaUnderROC: ' + str(modelSummary.areaUnderROC))"
   ]
  },
  {
   "cell_type": "code",
   "execution_count": 18,
   "metadata": {},
   "outputs": [
    {
     "data": {
      "image/png": "[encoded data removed]",
      "text/plain": [
       "<Figure size 432x288 with 1 Axes>"
      ]
     },
     "metadata": {
      "needs_background": "light"
     },
     "output_type": "display_data"
    }
   ],
   "source": [
    "#Presición vs Exhaustividad (recall)\n",
    "pr = modelSummary.pr.toPandas()\n",
    "plt.plot(pr['recall'],pr['precision'])\n",
    "plt.ylabel('Precision')\n",
    "plt.xlabel('Recall')\n",
    "plt.show()"
   ]
  },
  {
   "cell_type": "markdown",
   "metadata": {},
   "source": [
    "#### Predicciones"
   ]
  },
  {
   "cell_type": "code",
   "execution_count": 19,
   "metadata": {},
   "outputs": [],
   "source": [
    "def predictLogistico(test,categoricalCols, numericalCols, labelCol, model):\n",
    "#     dataProcessing(train, categoricalCols, numericalCols, labelCol=\"TIPO PACIENTE\")\n",
    "    \"\"\"\n",
    "    Esta función predice un modelo logístico con columnas categóricas\n",
    "    y numéricas sobre un conjunto de datos de prueba.\n",
    "    \"\"\"\n",
    "    predictions = model.transform(test)\n",
    "    #regresamos el df con las predicciones\n",
    "    return predictions"
   ]
  },
  {
   "cell_type": "code",
   "execution_count": 20,
   "metadata": {},
   "outputs": [],
   "source": [
    "#hacemos nuestras predicciones aplicándole el modelo a nuestro conjunto de prueba\n",
    "pred = model.transform(test)"
   ]
  },
  {
   "cell_type": "code",
   "execution_count": 25,
   "metadata": {},
   "outputs": [
    {
     "name": "stdout",
     "output_type": "stream",
     "text": [
      "+----------------+-----+----+\n",
      "|label_prediction|  0.0| 1.0|\n",
      "+----------------+-----+----+\n",
      "|             1.0| 3499|7393|\n",
      "|             0.0|15129|5738|\n",
      "+----------------+-----+----+\n",
      "\n"
     ]
    }
   ],
   "source": [
    "#Matriz de confusión\n",
    "#índice: etiqueta real\n",
    "#columnas: predicción de nuestro modelo\n",
    "pred.crosstab(\"label\",\"prediction\").show()"
   ]
  },
  {
   "cell_type": "code",
   "execution_count": 22,
   "metadata": {},
   "outputs": [
    {
     "name": "stdout",
     "output_type": "stream",
     "text": [
      "Exactitud del modelo:  0.7106776152920009\n",
      "Training set Area Under ROC: 0.7641198877793406\n",
      "Test set Area Under ROC 0.7610655371151583\n"
     ]
    }
   ],
   "source": [
    "#AUROC\n",
    "from pyspark.ml.evaluation import BinaryClassificationEvaluator\n",
    "evaluator = BinaryClassificationEvaluator()\n",
    "print(\"Exactitud del modelo: \", modelSummary.accuracy)\n",
    "print('Training set Area Under ROC: ' + str(modelSummary.areaUnderROC))\n",
    "print('Test set Area Under ROC', evaluator.evaluate(pred))"
   ]
  },
  {
   "cell_type": "code",
   "execution_count": 23,
   "metadata": {},
   "outputs": [
    {
     "name": "stdout",
     "output_type": "stream",
     "text": [
      "clases: [0.0, 1.0]\n",
      "f-measure [0.7675098650954985, 0.6170704195090508]\n",
      "false-positive rate by label: [0.31857007276178423, 0.2741142845393046]\n",
      "Precisión:  [0.8141980718667835, 0.5638189968262278]\n",
      "Exhaustividad (recall):  [0.7258857154606954, 0.6814299272382157]\n"
     ]
    }
   ],
   "source": [
    "#otras métricas de evaluación\n",
    "print(\"clases:\", modelSummary.labels)\n",
    "print(\"f-measure\",modelSummary.fMeasureByLabel(beta=1.0))\n",
    "print(\"false-positive rate by label:\", modelSummary.falsePositiveRateByLabel)\n",
    "print(\"Precisión: \", modelSummary.precisionByLabel)\n",
    "print(\"Exhaustividad (recall): \", modelSummary.recallByLabel)"
   ]
  },
  {
   "cell_type": "markdown",
   "metadata": {},
   "source": [
    "## Conclusión:\n",
    "\n",
    "El modelo mejora significativamente poniendole la variable de **NEUMONIA** pero esta columna no se debe de agregar al modelo ya que esto es una consecuencia del COVID-19 y no un padecimiento que se haya tenido anteriormente a contraer la enfermedad."
   ]
  },
  {
   "cell_type": "code",
   "execution_count": null,
   "metadata": {},
   "outputs": [],
   "source": []
  },
  {
   "cell_type": "code",
   "execution_count": null,
   "metadata": {},
   "outputs": [],
   "source": []
  },
  {
   "cell_type": "code",
   "execution_count": null,
   "metadata": {},
   "outputs": [],
   "source": []
  },
  {
   "cell_type": "code",
   "execution_count": null,
   "metadata": {},
   "outputs": [],
   "source": []
  },
  {
   "cell_type": "code",
   "execution_count": null,
   "metadata": {},
   "outputs": [],
   "source": []
  },
  {
   "cell_type": "code",
   "execution_count": null,
   "metadata": {},
   "outputs": [],
   "source": []
  },
  {
   "cell_type": "code",
   "execution_count": null,
   "metadata": {},
   "outputs": [],
   "source": []
  },
  {
   "cell_type": "code",
   "execution_count": null,
   "metadata": {},
   "outputs": [],
   "source": []
  },
  {
   "cell_type": "code",
   "execution_count": null,
   "metadata": {},
   "outputs": [],
   "source": []
  },
  {
   "cell_type": "code",
   "execution_count": null,
   "metadata": {},
   "outputs": [],
   "source": []
  }
 ],
 "metadata": {
  "kernelspec": {
   "display_name": "Python 3",
   "language": "python",
   "name": "python3"
  },
  "language_info": {
   "codemirror_mode": {
    "name": "ipython",
    "version": 3
   },
   "file_extension": ".py",
   "mimetype": "text/x-python",
   "name": "python",
   "nbconvert_exporter": "python",
   "pygments_lexer": "ipython3",
   "version": "3.7.4"
  }
 },
 "nbformat": 4,
 "nbformat_minor": 2
}
